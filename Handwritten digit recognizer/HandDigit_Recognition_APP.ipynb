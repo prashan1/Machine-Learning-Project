{
  "nbformat": 4,
  "nbformat_minor": 0,
  "metadata": {
    "colab": {
      "name": "HandDigit Recognition APP",
      "provenance": [],
      "collapsed_sections": []
    },
    "kernelspec": {
      "name": "python3",
      "display_name": "Python 3"
    },
    "accelerator": "GPU"
  },
  "cells": [
    {
      "cell_type": "code",
      "metadata": {
        "id": "9DrM4-G7D2Zj",
        "colab_type": "code",
        "colab": {}
      },
      "source": [
        "import tensorflow  as tf\n",
        "from tensorflow import keras as kr\n",
        "import pandas as pd\n",
        "import matplotlib.pyplot as plt"
      ],
      "execution_count": 0,
      "outputs": []
    },
    {
      "cell_type": "code",
      "metadata": {
        "id": "gmmJZGCmD71A",
        "colab_type": "code",
        "colab": {}
      },
      "source": [
        "(x_train, y_train), (x_test, y_test) = kr.datasets.mnist.load_data()\n"
      ],
      "execution_count": 0,
      "outputs": []
    },
    {
      "cell_type": "code",
      "metadata": {
        "id": "AaDP99XtEBur",
        "colab_type": "code",
        "outputId": "66e2a9a3-830a-4514-e319-e74e8ba286d3",
        "colab": {
          "base_uri": "https://localhost:8080/",
          "height": 34
        }
      },
      "source": [
        "print(x_train.shape, y_train.shape)\n"
      ],
      "execution_count": 0,
      "outputs": [
        {
          "output_type": "stream",
          "text": [
            "(60000, 28, 28) (60000,)\n"
          ],
          "name": "stdout"
        }
      ]
    },
    {
      "cell_type": "code",
      "metadata": {
        "id": "5nm_ycc8ECKD",
        "colab_type": "code",
        "colab": {}
      },
      "source": [
        "x_train = x_train.reshape(x_train.shape[0], 28, 28, 1)\n",
        "x_test = x_test.reshape(x_test.shape[0], 28, 28, 1)\n",
        "input_shape = (28, 28, 1)"
      ],
      "execution_count": 0,
      "outputs": []
    },
    {
      "cell_type": "code",
      "metadata": {
        "id": "D0qVqfZVEFDF",
        "colab_type": "code",
        "outputId": "cf31fc73-27fb-4395-ce38-53aee85e1c11",
        "colab": {
          "base_uri": "https://localhost:8080/",
          "height": 34
        }
      },
      "source": [
        "# convert class vectors to binary class matrices\n",
        "y_train = keras.utils.to_categorical(y_train, 10)\n",
        "y_test = keras.utils.to_categorical(y_test, 10)\n",
        "y_train.shape"
      ],
      "execution_count": 0,
      "outputs": [
        {
          "output_type": "execute_result",
          "data": {
            "text/plain": [
              "(60000, 10)"
            ]
          },
          "metadata": {
            "tags": []
          },
          "execution_count": 81
        }
      ]
    },
    {
      "cell_type": "code",
      "metadata": {
        "id": "JYom66K1EGl8",
        "colab_type": "code",
        "outputId": "1ce14573-19d4-4e88-c9a6-e9235ec9c268",
        "colab": {
          "base_uri": "https://localhost:8080/",
          "height": 268
        }
      },
      "source": [
        "for i in range(9):\n",
        "  plt.subplot(330 + 1 + i)\n",
        "  plt.imshow(X[i] , cmap = plt.get_cmap('gray'))"
      ],
      "execution_count": 0,
      "outputs": [
        {
          "output_type": "display_data",
          "data": {
            "image/png": "[encoded data removed]",
            "text/plain": [
              "<Figure size 432x288 with 9 Axes>"
            ]
          },
          "metadata": {
            "tags": [],
            "needs_background": "light"
          }
        }
      ]
    },
    {
      "cell_type": "code",
      "metadata": {
        "id": "8aTsd72BEIMr",
        "colab_type": "code",
        "colab": {}
      },
      "source": [
        "x_train = x_train.astype('float32')\n",
        "x_test = x_test.astype('float32')\n",
        "x_train /= 255\n",
        "x_test /= 255"
      ],
      "execution_count": 0,
      "outputs": []
    },
    {
      "cell_type": "code",
      "metadata": {
        "id": "wCVQTodLEJl7",
        "colab_type": "code",
        "outputId": "0d8aa4d7-2f0b-4ef0-be7f-1fe30d04282d",
        "colab": {
          "base_uri": "https://localhost:8080/",
          "height": 68
        }
      },
      "source": [
        "print('x_train shape:', x_train.shape)\n",
        "print(x_train.shape[0], 'train samples')\n",
        "print(x_test.shape[0], 'test samples')\n",
        "batch_size = 128\n",
        "num_classes = 10\n",
        "epochs = 10"
      ],
      "execution_count": 0,
      "outputs": [
        {
          "output_type": "stream",
          "text": [
            "x_train shape: (60000, 28, 28, 1)\n",
            "60000 train samples\n",
            "10000 test samples\n"
          ],
          "name": "stdout"
        }
      ]
    },
    {
      "cell_type": "code",
      "metadata": {
        "id": "T7A4e81TELH7",
        "colab_type": "code",
        "colab": {}
      },
      "source": [
        "from keras.models import Sequential\n",
        "from keras.layers import Dense, Dropout, Flatten\n",
        "from keras.layers import Conv2D, MaxPooling2D\n",
        "from keras import backend as K"
      ],
      "execution_count": 0,
      "outputs": []
    },
    {
      "cell_type": "code",
      "metadata": {
        "id": "NqU0R8h4EMxX",
        "colab_type": "code",
        "colab": {}
      },
      "source": [
        "model = Sequential()\n",
        "model.add(Conv2D(32, kernel_size=(5, 5),activation='relu',input_shape=input_shape))\n",
        "model.add(MaxPooling2D(pool_size=(2, 2)))\n",
        "model.add(Conv2D(64, (3, 3), activation='relu'))\n",
        "model.add(MaxPooling2D(pool_size=(2, 2)))\n",
        "model.add(Flatten())\n",
        "model.add(Dense(128, activation='relu'))\n",
        "model.add(Dropout(0.3))\n",
        "model.add(Dense(64, activation='relu'))\n",
        "model.add(Dropout(0.5))\n",
        "model.add(Dense(num_classes, activation='softmax'))"
      ],
      "execution_count": 0,
      "outputs": []
    },
    {
      "cell_type": "code",
      "metadata": {
        "id": "btjWgA8SEbjW",
        "colab_type": "code",
        "outputId": "bc0a1a9e-f869-4697-b034-e989e7ae0fa4",
        "colab": {
          "base_uri": "https://localhost:8080/",
          "height": 493
        }
      },
      "source": [
        "model.summary()"
      ],
      "execution_count": 0,
      "outputs": [
        {
          "output_type": "stream",
          "text": [
            "Model: \"sequential_11\"\n",
            "_________________________________________________________________\n",
            "Layer (type)                 Output Shape              Param #   \n",
            "=================================================================\n",
            "conv2d_20 (Conv2D)           (None, 24, 24, 32)        832       \n",
            "_________________________________________________________________\n",
            "max_pooling2d_16 (MaxPooling (None, 12, 12, 32)        0         \n",
            "_________________________________________________________________\n",
            "conv2d_21 (Conv2D)           (None, 10, 10, 64)        18496     \n",
            "_________________________________________________________________\n",
            "max_pooling2d_17 (MaxPooling (None, 5, 5, 64)          0         \n",
            "_________________________________________________________________\n",
            "flatten_10 (Flatten)         (None, 1600)              0         \n",
            "_________________________________________________________________\n",
            "dense_24 (Dense)             (None, 128)               204928    \n",
            "_________________________________________________________________\n",
            "dropout_19 (Dropout)         (None, 128)               0         \n",
            "_________________________________________________________________\n",
            "dense_25 (Dense)             (None, 64)                8256      \n",
            "_________________________________________________________________\n",
            "dropout_20 (Dropout)         (None, 64)                0         \n",
            "_________________________________________________________________\n",
            "dense_26 (Dense)             (None, 10)                650       \n",
            "=================================================================\n",
            "Total params: 233,162\n",
            "Trainable params: 233,162\n",
            "Non-trainable params: 0\n",
            "_________________________________________________________________\n"
          ],
          "name": "stdout"
        }
      ]
    },
    {
      "cell_type": "code",
      "metadata": {
        "id": "QkliuXe0EdXS",
        "colab_type": "code",
        "colab": {}
      },
      "source": [
        "model.compile(loss=keras.losses.categorical_crossentropy,optimizer=keras.optimizers.Adadelta(),metrics=['accuracy'])\n"
      ],
      "execution_count": 0,
      "outputs": []
    },
    {
      "cell_type": "code",
      "metadata": {
        "id": "BEihzO6wEe_P",
        "colab_type": "code",
        "outputId": "65a2e6ee-6686-4358-e6c2-8afa1494cd8c",
        "colab": {
          "base_uri": "https://localhost:8080/",
          "height": 411
        }
      },
      "source": [
        "hist = model.fit(x_train, y_train,batch_size=batch_size,epochs=epochs,verbose=1,validation_data=(x_test, y_test))\n",
        "print(\"The model has successfully trained\")"
      ],
      "execution_count": 0,
      "outputs": [
        {
          "output_type": "stream",
          "text": [
            "Train on 60000 samples, validate on 10000 samples\n",
            "Epoch 1/10\n",
            "60000/60000 [==============================] - 6s 100us/step - loss: 0.3804 - accuracy: 0.8831 - val_loss: 0.0571 - val_accuracy: 0.9806\n",
            "Epoch 2/10\n",
            "60000/60000 [==============================] - 6s 92us/step - loss: 0.1097 - accuracy: 0.9711 - val_loss: 0.0423 - val_accuracy: 0.9876\n",
            "Epoch 3/10\n",
            "60000/60000 [==============================] - 6s 93us/step - loss: 0.0791 - accuracy: 0.9802 - val_loss: 0.0385 - val_accuracy: 0.9884\n",
            "Epoch 4/10\n",
            "60000/60000 [==============================] - 6s 93us/step - loss: 0.0620 - accuracy: 0.9847 - val_loss: 0.0367 - val_accuracy: 0.9892\n",
            "Epoch 5/10\n",
            "60000/60000 [==============================] - 6s 93us/step - loss: 0.0527 - accuracy: 0.9867 - val_loss: 0.0306 - val_accuracy: 0.9916\n",
            "Epoch 6/10\n",
            "60000/60000 [==============================] - 5s 91us/step - loss: 0.0464 - accuracy: 0.9881 - val_loss: 0.0287 - val_accuracy: 0.9919\n",
            "Epoch 7/10\n",
            "60000/60000 [==============================] - 5s 91us/step - loss: 0.0406 - accuracy: 0.9900 - val_loss: 0.0318 - val_accuracy: 0.9924\n",
            "Epoch 8/10\n",
            "60000/60000 [==============================] - 5s 91us/step - loss: 0.0360 - accuracy: 0.9912 - val_loss: 0.0272 - val_accuracy: 0.9925\n",
            "Epoch 9/10\n",
            "60000/60000 [==============================] - 5s 90us/step - loss: 0.0329 - accuracy: 0.9920 - val_loss: 0.0258 - val_accuracy: 0.9924\n",
            "Epoch 10/10\n",
            "60000/60000 [==============================] - 5s 89us/step - loss: 0.0285 - accuracy: 0.9922 - val_loss: 0.0251 - val_accuracy: 0.9936\n",
            "The model has successfully trained\n"
          ],
          "name": "stdout"
        }
      ]
    },
    {
      "cell_type": "code",
      "metadata": {
        "id": "e_UbeosIEiWa",
        "colab_type": "code",
        "outputId": "de1b69f1-4cb4-45d8-9c65-08c3fdcb1f3d",
        "colab": {
          "base_uri": "https://localhost:8080/",
          "height": 320
        }
      },
      "source": [
        "pd.DataFrame(hist.history).plot(figsize=(8,5))\n",
        "plt.grid(True)\n",
        "plt.show()"
      ],
      "execution_count": 0,
      "outputs": [
        {
          "output_type": "display_data",
          "data": {
            "image/png": "[encoded data removed]",
            "text/plain": [
              "<Figure size 576x360 with 1 Axes>"
            ]
          },
          "metadata": {
            "tags": [],
            "needs_background": "light"
          }
        }
      ]
    },
    {
      "cell_type": "code",
      "metadata": {
        "id": "YI9nSgQnE9h3",
        "colab_type": "code",
        "outputId": "765e927c-729f-4d99-8fae-7bb87325224a",
        "colab": {
          "base_uri": "https://localhost:8080/",
          "height": 34
        }
      },
      "source": [
        "errors  , accuracy = model.evaluate(x_test , y_test)"
      ],
      "execution_count": 0,
      "outputs": [
        {
          "output_type": "stream",
          "text": [
            "10000/10000 [==============================] - 1s 108us/step\n"
          ],
          "name": "stdout"
        }
      ]
    },
    {
      "cell_type": "code",
      "metadata": {
        "id": "vUiKSFOzE-1X",
        "colab_type": "code",
        "outputId": "fd5f1580-91a7-449d-91f5-d9a9e2db2c76",
        "colab": {
          "base_uri": "https://localhost:8080/",
          "height": 34
        }
      },
      "source": [
        "print(f'Our Model have {errors} errors and {accuracy*100}% accuracy')"
      ],
      "execution_count": 0,
      "outputs": [
        {
          "output_type": "stream",
          "text": [
            "Our Model have 0.025101778239685346 errors and 99.36000108718872% accuracy\n"
          ],
          "name": "stdout"
        }
      ]
    },
    {
      "cell_type": "code",
      "metadata": {
        "id": "8mCTw68hFAGx",
        "colab_type": "code",
        "colab": {}
      },
      "source": [
        "model.save('Answer.h5')"
      ],
      "execution_count": 0,
      "outputs": []
    },
    {
      "cell_type": "code",
      "metadata": {
        "id": "nIP1HYiDImpX",
        "colab_type": "code",
        "outputId": "0736babd-7507-42da-d04e-8768c5359fa7",
        "colab": {
          "base_uri": "https://localhost:8080/",
          "height": 34
        }
      },
      "source": [
        "model.predict_classes(x_test)"
      ],
      "execution_count": 0,
      "outputs": [
        {
          "output_type": "execute_result",
          "data": {
            "text/plain": [
              "array([7, 2, 1, ..., 4, 5, 6])"
            ]
          },
          "metadata": {
            "tags": []
          },
          "execution_count": 93
        }
      ]
    },
    {
      "cell_type": "code",
      "metadata": {
        "id": "-ay6mwLDNBB_",
        "colab_type": "code",
        "colab": {}
      },
      "source": [
        ""
      ],
      "execution_count": 0,
      "outputs": []
    }
  ]
}